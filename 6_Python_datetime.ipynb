{
  "cells": [
    {
      "cell_type": "markdown",
      "metadata": {
        "id": "view-in-github",
        "colab_type": "text"
      },
      "source": [
        "<a href=\"https://colab.research.google.com/github/MolchanovSergey/mipt_1/blob/main/6_Python_datetime.ipynb\" target=\"_parent\"><img src=\"https://colab.research.google.com/assets/colab-badge.svg\" alt=\"Open In Colab\"/></a>"
      ]
    },
    {
      "cell_type": "markdown",
      "source": [
        "Задание 1\n",
        "\n",
        "Печатные газеты использовали свой формат дат для каждого выпуска. Для каждой газеты из списка напишите формат указанной даты для перевода в объект datetime:\n",
        "The Moscow Times - Wednesday, October 2, 2002\n",
        "The Guardian - Friday, 11.10.13\n",
        "Daily News - Thursday, 18 August 1977\n",
        "\n",
        "Пример работы программы\n",
        "Программа должна выводить на экран объекты типа datetime, соответствующие датам в условии задачи"
      ],
      "metadata": {
        "id": "_-cGiadbC6q4"
      }
    },
    {
      "cell_type": "code",
      "source": [
        "from datetime import timedelta\n",
        "\n",
        "DATE_FORMATS = ['%A, %B %d, %Y', '%A, %d.%m.%y', '%A, %d %B %Y']\n",
        "\n",
        "def parse_date(date):\n",
        "  for formate_ in DATE_FORMATS:\n",
        "    try:\n",
        "        return print(datetime.strptime(date, formate_))\n",
        "    except:\n",
        "        pass\n",
        "        # raise ValueError (f' Неизвестный формат даты: '(date))"
      ],
      "metadata": {
        "id": "OOGzex7c5TD-"
      },
      "execution_count": 27,
      "outputs": []
    },
    {
      "cell_type": "code",
      "source": [
        "parse_date('Wednesday, October 2, 2002')"
      ],
      "metadata": {
        "id": "w3ZLnN7G4e8v",
        "outputId": "9f609c0a-67a0-4037-dd89-bde020760eee",
        "colab": {
          "base_uri": "https://localhost:8080/"
        }
      },
      "execution_count": 28,
      "outputs": [
        {
          "output_type": "stream",
          "name": "stdout",
          "text": [
            "2002-10-02 00:00:00\n"
          ]
        }
      ]
    },
    {
      "cell_type": "code",
      "source": [
        "date_string = 'Wednesday, October 2, 2002'\n",
        "date_datetime = datetime.strptime( date_string, '%A, %B %d, %Y' )\n",
        "date_datetime"
      ],
      "metadata": {
        "id": "uBIRoSNN6KnA",
        "outputId": "91d66fc6-3713-45dc-d4b3-7de9b5cccab1",
        "colab": {
          "base_uri": "https://localhost:8080/"
        }
      },
      "execution_count": 29,
      "outputs": [
        {
          "output_type": "execute_result",
          "data": {
            "text/plain": [
              "datetime.datetime(2002, 10, 2, 0, 0)"
            ]
          },
          "metadata": {},
          "execution_count": 29
        }
      ]
    },
    {
      "cell_type": "code",
      "source": [
        "with open('The_Moscow_Times') as f:\n",
        "    for line in f:\n",
        "      date = line.split('-')[1]\n",
        "      date = date.strip()\n",
        "      parse_date(date)\n",
        "\n",
        "\n"
      ],
      "metadata": {
        "colab": {
          "base_uri": "https://localhost:8080/"
        },
        "id": "TA_u1HLl26ca",
        "outputId": "7d1ed8a6-fb07-4bde-ff27-e84af0769a51"
      },
      "execution_count": 30,
      "outputs": [
        {
          "output_type": "stream",
          "name": "stdout",
          "text": [
            "2002-10-02 00:00:00\n",
            "2013-10-11 00:00:00\n",
            "1977-08-18 00:00:00\n"
          ]
        }
      ]
    },
    {
      "cell_type": "markdown",
      "source": [
        "Разобарться, почему функция возвращает объект типа строка а не объект datetime?"
      ],
      "metadata": {
        "id": "CX_K0HAOsXRr"
      }
    },
    {
      "cell_type": "markdown",
      "source": [
        "Задание 2 (не обязательное)\n",
        "\n",
        "Напишите функцию date_range, которая возвращает список дат за период от start_date до end_date. Даты должны вводиться в формате YYYY-MM-DD. В случае неверного формата или при start_date > end_date должен возвращаться пустой список.\n"
      ],
      "metadata": {
        "id": "E23RY2Y_s6kP"
      }
    },
    {
      "cell_type": "code",
      "source": [
        "from datetime import timedelta\n",
        "\n",
        "start_date = '1993-05-03'\n",
        "end_date = '1993-05-31'\n",
        "\n",
        "\n",
        "\n",
        "def date_range(start_date, end_date):\n",
        "    list_date = []\n",
        "    try:\n",
        "        start_date1 = datetime.strptime(start_date, '%Y-%m-%d')\n",
        "        end_date1 = datetime.strptime(end_date, '%Y-%m-%d')\n",
        "        if start_date1 > end_date1:\n",
        "            print(list_date)\n",
        "        else:\n",
        "            while start_date1 <= end_date1:\n",
        "                list_date.append(start_date1.strftime('%Y-%m-%d'))\n",
        "                start_date1 += timedelta(days=1)\n",
        "        print(list_date)\n",
        "    except:\n",
        "        print([])\n",
        "\n",
        "date_range(start_date, end_date)"
      ],
      "metadata": {
        "id": "TWt9K9Urtqem",
        "outputId": "c76c6f33-5e42-402a-9f63-e9cf4d18f419",
        "colab": {
          "base_uri": "https://localhost:8080/"
        }
      },
      "execution_count": 26,
      "outputs": [
        {
          "output_type": "stream",
          "name": "stdout",
          "text": [
            "['1993-05-03', '1993-05-04', '1993-05-05', '1993-05-06', '1993-05-07', '1993-05-08', '1993-05-09', '1993-05-10', '1993-05-11', '1993-05-12', '1993-05-13', '1993-05-14', '1993-05-15', '1993-05-16', '1993-05-17', '1993-05-18', '1993-05-19', '1993-05-20', '1993-05-21', '1993-05-22', '1993-05-23', '1993-05-24', '1993-05-25', '1993-05-26', '1993-05-27', '1993-05-28', '1993-05-29', '1993-05-30', '1993-05-31']\n"
          ]
        }
      ]
    },
    {
      "cell_type": "code",
      "source": [
        "date_range('2022-01-01', '2022-01-03')"
      ],
      "metadata": {
        "id": "RxjP2iR9D1pi",
        "outputId": "6bed52d4-a42f-4bcb-98c9-6e89204d2c90",
        "colab": {
          "base_uri": "https://localhost:8080/"
        }
      },
      "execution_count": 25,
      "outputs": [
        {
          "output_type": "stream",
          "name": "stdout",
          "text": [
            "['2022-01-01', '2022-01-02', '2022-01-03']\n"
          ]
        }
      ]
    },
    {
      "cell_type": "markdown",
      "source": [
        "# Новый раздел"
      ],
      "metadata": {
        "id": "DexHcC6gH3TC"
      }
    }
  ],
  "metadata": {
    "kernelspec": {
      "display_name": "Python 3",
      "language": "python",
      "name": "python3"
    },
    "language_info": {
      "codemirror_mode": {
        "name": "ipython",
        "version": 3
      },
      "file_extension": ".py",
      "mimetype": "text/x-python",
      "name": "python",
      "nbconvert_exporter": "python",
      "pygments_lexer": "ipython3",
      "version": "3.8.5"
    },
    "colab": {
      "provenance": [],
      "include_colab_link": true
    }
  },
  "nbformat": 4,
  "nbformat_minor": 0
}