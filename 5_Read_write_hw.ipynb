{
  "cells": [
    {
      "cell_type": "markdown",
      "metadata": {
        "id": "view-in-github",
        "colab_type": "text"
      },
      "source": [
        "<a href=\"https://colab.research.google.com/github/MolchanovSergey/mipt_1/blob/main/5_Read_write_hw.ipynb\" target=\"_parent\"><img src=\"https://colab.research.google.com/assets/colab-badge.svg\" alt=\"Open In Colab\"/></a>"
      ]
    },
    {
      "cell_type": "markdown",
      "metadata": {
        "id": "9SZOWiJ71mGR"
      },
      "source": [
        "# Домашнее задание\n",
        "1. Переведите содержимое файла purchase_log.txt в словарь purchases вида:\n",
        "```python\n",
        "{'1840e0b9d4': 'Продукты', ...}\n",
        "```\n",
        "\n",
        "2. Для каждого user_id в файле visit_log.csv определите третий столбец с категорией покупки (если покупка была, сам файл visit_log.csv изменять не надо). Запишите в файл funnel.csv визиты из файла visit_log.csv, в которых были покупки с указанием категории.\n",
        "\n",
        "Учтите условия на данные:\n",
        "- содержимое purchase_log.txt помещается в оперативную память компьютера\n",
        "- содержимое visit_log.csv - нет; используйте только построчную обработку этого файла"
      ]
    },
    {
      "cell_type": "code",
      "source": [
        "from google.colab import drive\n",
        "drive.mount('/content/drive')"
      ],
      "metadata": {
        "id": "Br49vViQAIrx"
      },
      "execution_count": null,
      "outputs": []
    },
    {
      "cell_type": "code",
      "execution_count": 22,
      "metadata": {
        "id": "yQ3thNO91mGR",
        "colab": {
          "base_uri": "https://localhost:8080/"
        },
        "outputId": "7db828ae-fc0b-4d07-d064-2a6793348a40"
      },
      "outputs": [
        {
          "output_type": "stream",
          "name": "stdout",
          "text": [
            "{'user_id': 'category', '1840e0b9d4': 'Продукты'}\n"
          ]
        }
      ],
      "source": [
        "i = 0\n",
        "dic = {}\n",
        "\n",
        "with open('purchase_log.txt') as f:\n",
        "    for line in f:\n",
        "        line = line.strip()\n",
        "\n",
        "        dict_ = json.loads(line)\n",
        "\n",
        "        key = dict_['user_id']\n",
        "        value = dict_['category']\n",
        "        dic[key] = value\n",
        "\n",
        "        i += 1\n",
        "        if i > 1:\n",
        "            break\n",
        "print(dic)"
      ]
    },
    {
      "cell_type": "code",
      "source": [
        "import json\n",
        "\n",
        "\n",
        "final_dict = {}\n",
        "\n",
        "with open('purchase_log.txt') as purchases:\n",
        "  for i, line in enumerate(purchases):\n",
        "\n",
        "\n",
        "    dict_ = json.loads(line)\n",
        "\n",
        "    key = dict_['user_id']\n",
        "    value = dict_['category']\n",
        "\n",
        "    final_dict[key] = value\n",
        "\n",
        "\n",
        "with open('visit_log.csv', 'r') as f, open('funnel.csv','w') as f_2:\n",
        "  for i, line in enumerate(f):\n",
        "      line = line.strip().split(',')\n",
        "\n",
        "      if line[0] in final_dict.keys():\n",
        "          line.append(final_dict[line[0]])\n",
        "          ad_line = ','.join(line)\n",
        "\n",
        "          f_2.write(ad_line + '\\n')"
      ],
      "metadata": {
        "id": "TstHbb1M82yD"
      },
      "execution_count": 8,
      "outputs": []
    }
  ],
  "metadata": {
    "kernelspec": {
      "display_name": "Python 3",
      "language": "python",
      "name": "python3"
    },
    "language_info": {
      "codemirror_mode": {
        "name": "ipython",
        "version": 3
      },
      "file_extension": ".py",
      "mimetype": "text/x-python",
      "name": "python",
      "nbconvert_exporter": "python",
      "pygments_lexer": "ipython3",
      "version": "3.8.5"
    },
    "colab": {
      "provenance": [],
      "include_colab_link": true
    }
  },
  "nbformat": 4,
  "nbformat_minor": 0
}